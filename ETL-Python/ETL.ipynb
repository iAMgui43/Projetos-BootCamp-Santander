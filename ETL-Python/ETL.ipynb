{
 "cells": [
  {
   "cell_type": "code",
   "execution_count": 63,
   "metadata": {},
   "outputs": [
    {
     "name": "stdout",
     "output_type": "stream",
     "text": [
      "     Nome  Idade  Anos_de_Banco  Total_Investido\n",
      "0    João     30              8            50000\n",
      "1   Maria     28              5            75000\n",
      "2  Carlos     35             12           100000\n",
      "3     Ana     40             20           150000\n",
      "4   Pedro     27              3            30000\n"
     ]
    }
   ],
   "source": [
    "import pandas as pd\n",
    "\n",
    "#Extraindo informções de um csv com pandas\n",
    "df = pd.read_csv(\"STW.csv\")\n",
    "print(df)\n"
   ]
  },
  {
   "cell_type": "code",
   "execution_count": 60,
   "metadata": {},
   "outputs": [
    {
     "name": "stdout",
     "output_type": "stream",
     "text": [
      "     Nome  Idade  Anos_de_Banco Total_Investido         Ação\n",
      "2  Carlos     35             12       100000.00  Selecionado\n",
      "3     Ana     40             20       150000.00  Selecionado\n"
     ]
    }
   ],
   "source": [
    "#Separando em partes para realizar uma ação com os maiores investidores com conta no banco com mais de 10 anos\n",
    "df['Ação'] = ['Selecionado' if valor > 80000.00 else 'Não Selecioando' for valor in df['Total_Investido'].astype(float)]\n",
    "\n",
    "df_selecionados = df[(df['Ação'] == 'Selecionado') & (df['Anos_de_Banco'] > 10)]\n",
    "print(df_selecionados)\n",
    "\n"
   ]
  },
  {
   "cell_type": "code",
   "execution_count": 61,
   "metadata": {},
   "outputs": [
    {
     "name": "stdout",
     "output_type": "stream",
     "text": [
      "    Nome  Idade  Anos_de_Banco Total_Investido             Ação\n",
      "0   João     30              8        50000.00  Não Selecioando\n",
      "1  Maria     28              5        75000.00  Não Selecioando\n",
      "4  Pedro     27              3        30000.00  Não Selecioando\n"
     ]
    }
   ],
   "source": [
    "df_nao_selcionados = df[df['Ação'] == 'Não Selecioando']\n",
    "print(df_nao_selcionados)"
   ]
  },
  {
   "cell_type": "code",
   "execution_count": 62,
   "metadata": {},
   "outputs": [],
   "source": [
    "#Salvado de forma separada Selecionados de Não_Selecionados\n",
    "df_selecionados.to_csv('selecionados.csv', index=False)\n",
    "\n",
    "df_nao_selcionados.to_csv('nao_selecionados.csv', index=False)"
   ]
  }
 ],
 "metadata": {
  "kernelspec": {
   "display_name": "Python 3",
   "language": "python",
   "name": "python3"
  },
  "language_info": {
   "codemirror_mode": {
    "name": "ipython",
    "version": 3
   },
   "file_extension": ".py",
   "mimetype": "text/x-python",
   "name": "python",
   "nbconvert_exporter": "python",
   "pygments_lexer": "ipython3",
   "version": "3.9.0b3"
  },
  "orig_nbformat": 4
 },
 "nbformat": 4,
 "nbformat_minor": 2
}
